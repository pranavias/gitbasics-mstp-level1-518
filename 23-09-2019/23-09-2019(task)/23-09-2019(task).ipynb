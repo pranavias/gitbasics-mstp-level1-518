{
 "cells": [
  {
   "cell_type": "markdown",
   "metadata": {},
   "source": [
    "# Question 1:\n",
    "1.write a python program to get string from a given string where all occurances of its first char have been changed to $,except the first char itself"
   ]
  },
  {
   "cell_type": "code",
   "execution_count": 3,
   "metadata": {},
   "outputs": [
    {
     "name": "stdout",
     "output_type": "stream",
     "text": [
      "$estart\n"
     ]
    }
   ],
   "source": [
    "r=\"restart\"\n",
    "p=r.replace('r','$',1)\n",
    "print(p)"
   ]
  },
  {
   "cell_type": "markdown",
   "metadata": {},
   "source": [
    "# Question 2:\n",
    "2.take a string\"solving using python program\"\n",
    "* find the length of a string\n",
    "* change the string to lower case\n",
    "* print the string in revers order\n",
    "* split the string\n",
    "* print the string without spaces\n",
    "* find how many times 's' is repeted in a given string"
   ]
  },
  {
   "cell_type": "code",
   "execution_count": 4,
   "metadata": {},
   "outputs": [
    {
     "name": "stdout",
     "output_type": "stream",
     "text": [
      "28\n",
      "problem solving using python\n",
      "nohtyp gnisu gnivlos melborp\n",
      "['problem', 'solving', 'using', 'python']\n",
      "problemsolvingusingpython\n",
      "3\n"
     ]
    }
   ],
   "source": [
    "a=\"problem solving using python\"\n",
    "print(len(a))\n",
    "print(a.lower())\n",
    "print(a[-1::-1])\n",
    "print(a.split())\n",
    "print(\"problem\"+\"solving\"+\"using\"+\"python\")\n",
    "print(a.count(\"o\"))"
   ]
  },
  {
   "cell_type": "markdown",
   "metadata": {},
   "source": [
    "# Question 3:\n",
    "3.take a string\"python programming by python platforms\"\n",
    "* find how many times \"python\" is repeted"
   ]
  },
  {
   "cell_type": "code",
   "execution_count": 5,
   "metadata": {},
   "outputs": [
    {
     "name": "stdout",
     "output_type": "stream",
     "text": [
      "2\n"
     ]
    }
   ],
   "source": [
    "x=\"python programming by python platforms\"\n",
    "print(x.count(\"python\"))"
   ]
  },
  {
   "cell_type": "code",
   "execution_count": null,
   "metadata": {},
   "outputs": [],
   "source": []
  }
 ],
 "metadata": {
  "kernelspec": {
   "display_name": "Python 3",
   "language": "python",
   "name": "python3"
  },
  "language_info": {
   "codemirror_mode": {
    "name": "ipython",
    "version": 3
   },
   "file_extension": ".py",
   "mimetype": "text/x-python",
   "name": "python",
   "nbconvert_exporter": "python",
   "pygments_lexer": "ipython3",
   "version": "3.7.3"
  }
 },
 "nbformat": 4,
 "nbformat_minor": 2
}
