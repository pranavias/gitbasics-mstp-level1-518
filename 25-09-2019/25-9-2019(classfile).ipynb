{
 "cells": [
  {
   "cell_type": "markdown",
   "metadata": {},
   "source": [
    "#### function to print all the given range"
   ]
  },
  {
   "cell_type": "code",
   "execution_count": 4,
   "metadata": {},
   "outputs": [
    {
     "name": "stdout",
     "output_type": "stream",
     "text": [
      "20\n",
      "30\n",
      "23,29,"
     ]
    }
   ],
   "source": [
    "def prime(lb):\n",
    "    count=0\n",
    "    for i in range(1,lb+1):\n",
    "        if lb%i==0:\n",
    "            count=count+1\n",
    "    if count==2:\n",
    "            print(i,end=',')\n",
    "lb=int(input())\n",
    "ub=int(input())\n",
    "for j in range(lb,ub+1):\n",
    "    prime(j)"
   ]
  },
  {
   "cell_type": "code",
   "execution_count": 10,
   "metadata": {},
   "outputs": [
    {
     "name": "stdout",
     "output_type": "stream",
     "text": [
      "20\n",
      "30\n",
      "23 29 "
     ]
    }
   ],
   "source": [
    "def prime(lb):\n",
    "    count=0\n",
    "    for i in range(1,lb+1):\n",
    "        if lb%i==0:\n",
    "            count=count+1\n",
    "    if count==2:\n",
    "        return 1\n",
    "    else:\n",
    "        return 0\n",
    "lb=int(input())\n",
    "ub=int(input())\n",
    "for j in range(lb,ub+1):\n",
    "    if prime(j)==1:\n",
    "        print(j,end=\" \")"
   ]
  },
  {
   "cell_type": "code",
   "execution_count": 17,
   "metadata": {},
   "outputs": [
    {
     "name": "stdout",
     "output_type": "stream",
     "text": [
      "6\n",
      "6\n",
      "perfect number\n"
     ]
    }
   ],
   "source": [
    "# program to check whether a given num is perfect num\n",
    "def perfectnumber(n):\n",
    "    s=0\n",
    "    for i in range(1,n):\n",
    "        if(n%i==0):\n",
    "            s=s+i\n",
    "    print(s)\n",
    "    if(s==n):\n",
    "        print(\"perfect number\")\n",
    "    else:\n",
    "        print(\"not perfect number\")\n",
    "n=int(input())\n",
    "perfectnumber(n)"
   ]
  },
  {
   "cell_type": "code",
   "execution_count": 20,
   "metadata": {},
   "outputs": [
    {
     "name": "stdout",
     "output_type": "stream",
     "text": [
      "245\n",
      "11\n"
     ]
    }
   ],
   "source": [
    "# program a print the sum of digits in a given range\n",
    "def digitsum(n):\n",
    "    s=0\n",
    "    for i in range(0,n+1):\n",
    "         s=s+n%10\n",
    "         n=n//10\n",
    "    print(s)\n",
    "n=int(input())\n",
    "digitsum(n)"
   ]
  },
  {
   "cell_type": "code",
   "execution_count": 22,
   "metadata": {},
   "outputs": [
    {
     "name": "stdout",
     "output_type": "stream",
     "text": [
      "256\n",
      "349\n",
      "not amstrong\n"
     ]
    }
   ],
   "source": [
    "# program to chek whether a given number is amstrong or not\n",
    "def amstrong(n):\n",
    "    s=0\n",
    "    b=n\n",
    "    while(n!=0):\n",
    "        a=n%10\n",
    "        s=s+a**3\n",
    "        n=n//10\n",
    "    print(s)\n",
    "    if(s==b):\n",
    "        print(\"amstrong\")\n",
    "    else:\n",
    "        print(\"not amstrong\")\n",
    "n=int(input())\n",
    "amstrong(n)"
   ]
  }
 ],
 "metadata": {
  "kernelspec": {
   "display_name": "Python 3",
   "language": "python",
   "name": "python3"
  },
  "language_info": {
   "codemirror_mode": {
    "name": "ipython",
    "version": 3
   },
   "file_extension": ".py",
   "mimetype": "text/x-python",
   "name": "python",
   "nbconvert_exporter": "python",
   "pygments_lexer": "ipython3",
   "version": "3.7.3"
  }
 },
 "nbformat": 4,
 "nbformat_minor": 2
}
