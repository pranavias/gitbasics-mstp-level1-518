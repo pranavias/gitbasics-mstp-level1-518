{
 "cells": [
  {
   "cell_type": "markdown",
   "metadata": {},
   "source": [
    "### 1.Write a Python program to generate and print a list and a dictionary of square of numbers between 1 and 15 (both included) "
   ]
  },
  {
   "cell_type": "code",
   "execution_count": 3,
   "metadata": {},
   "outputs": [
    {
     "name": "stdout",
     "output_type": "stream",
     "text": [
      "{1: 1, 2: 4, 3: 9, 4: 16, 5: 25, 6: 36, 7: 49, 8: 64, 9: 81, 10: 100, 11: 121, 12: 144, 13: 169, 14: 196, 15: 225}\n",
      "[1, 4, 9, 16, 25, 36, 49, 64, 81, 100, 121, 144, 169, 196, 225]\n"
     ]
    }
   ],
   "source": [
    "x={}\n",
    "k=[]\n",
    "n=15\n",
    "for i in range(1,n+1):\n",
    "    x[i]=i**2\n",
    "    k.append(i**2)\n",
    "print(x)\n",
    "print(k)"
   ]
  },
  {
   "cell_type": "markdown",
   "metadata": {},
   "source": [
    "### 2.Take 10 integer inputs from user and store them in a list and print them on screen."
   ]
  },
  {
   "cell_type": "code",
   "execution_count": 5,
   "metadata": {},
   "outputs": [
    {
     "name": "stdout",
     "output_type": "stream",
     "text": [
      "10\n",
      "[1, 2, 3, 4, 5, 6, 7, 8, 9, 10]\n"
     ]
    }
   ],
   "source": [
    "x=[]\n",
    "n=int(input())\n",
    "for i in range(1,n+1):\n",
    "    x.append(i)\n",
    "print(x)"
   ]
  },
  {
   "cell_type": "markdown",
   "metadata": {},
   "source": [
    "### 3.l=[1,5,7,3,2,4,5,9],print list of all even numbers from the given list "
   ]
  },
  {
   "cell_type": "code",
   "execution_count": 2,
   "metadata": {},
   "outputs": [
    {
     "name": "stdout",
     "output_type": "stream",
     "text": [
      "[2, 4]\n"
     ]
    }
   ],
   "source": [
    "def even(l):\n",
    "    x=[]\n",
    "    for i in l:\n",
    "        if i%2==0:\n",
    "            x.append(i)\n",
    "    return(x)\n",
    "print(even([1,5,7,3,2,4,5,9]))"
   ]
  },
  {
   "cell_type": "markdown",
   "metadata": {},
   "source": [
    "### 4.Ask user to give name and marks of 10 different students. Store them in dictionary."
   ]
  },
  {
   "cell_type": "code",
   "execution_count": 9,
   "metadata": {},
   "outputs": [
    {
     "name": "stdout",
     "output_type": "stream",
     "text": [
      "10\n",
      "ashu\n",
      "29\n",
      "harshi\n",
      "30\n",
      "hummu\n",
      "30\n",
      "likki\n",
      "29\n",
      "praveena\n",
      "29\n",
      "madhavi\n",
      "30\n",
      "himaja\n",
      "30\n",
      "sushu\n",
      "30\n",
      "mouni\n",
      "29\n",
      "kavya\n",
      "30\n",
      "{'ashu': 29, 'harshi': 30, 'hummu': 30, 'likki': 29, 'praveena': 29, 'madhavi': 30, 'himaja': 30, 'sushu': 30, 'mouni': 29, 'kavya': 30}\n"
     ]
    }
   ],
   "source": [
    "d={}\n",
    "n=int(input())\n",
    "for i in range(1,n+1):\n",
    "    a=input()\n",
    "    x=int(input())\n",
    "    d[a]=x\n",
    "print(d)"
   ]
  },
  {
   "cell_type": "markdown",
   "metadata": {},
   "source": [
    "### 5.Sort the dictionary created in previous example according to marks."
   ]
  },
  {
   "cell_type": "code",
   "execution_count": 5,
   "metadata": {},
   "outputs": [
    {
     "name": "stdout",
     "output_type": "stream",
     "text": [
      "3\n",
      "34\n",
      "a\n",
      "45\n",
      "d\n",
      "67\n",
      "c\n",
      "{34: 'a', 45: 'd', 67: 'c'}\n",
      "34 : a\n",
      "45 : d\n",
      "67 : c\n"
     ]
    }
   ],
   "source": [
    "d={}\n",
    "n=int(input())\n",
    "for i in range(1,n+1):\n",
    "    a=int(input())\n",
    "    x=input()\n",
    "    d[a]=x\n",
    "print(d)\n",
    "b=sorted(d.keys())\n",
    "for i in b:\n",
    "    print(i,\":\",d[i])"
   ]
  },
  {
   "cell_type": "markdown",
   "metadata": {},
   "source": [
    "### 6.Use dictionary to store antonyms of words. \n",
    "E.g.- 'Right':'Left', 'Up':'Down', etc. Display all words and then ask user to enter a word and display antonym of it."
   ]
  },
  {
   "cell_type": "code",
   "execution_count": 23,
   "metadata": {},
   "outputs": [
    {
     "name": "stdout",
     "output_type": "stream",
     "text": [
      "['Right', 'up']\n",
      "up\n",
      "down\n"
     ]
    }
   ],
   "source": [
    "a={\"Right\":\"Left\",\"up\":\"down\"}\n",
    "print(list(a.keys()))\n",
    "n=input()\n",
    "print(a.get(n))"
   ]
  },
  {
   "cell_type": "markdown",
   "metadata": {},
   "source": [
    "### 7.Count the number of occurrence of each letter in word \"MISSISSIPPI\". Store count of every letter with the letter in a dictionary."
   ]
  },
  {
   "cell_type": "code",
   "execution_count": 5,
   "metadata": {},
   "outputs": [
    {
     "name": "stdout",
     "output_type": "stream",
     "text": [
      "{'M': 1, 'I': 4, 'S': 4, 'P': 2}\n"
     ]
    }
   ],
   "source": [
    "l=\"MISSISSIPPI\"\n",
    "x={}\n",
    "for i in l:\n",
    "    x[i]=l.count(i)\n",
    "print(x)"
   ]
  },
  {
   "cell_type": "markdown",
   "metadata": {},
   "source": [
    "### 8.From the previous question, sort according to the number of letters."
   ]
  },
  {
   "cell_type": "code",
   "execution_count": 6,
   "metadata": {},
   "outputs": [
    {
     "name": "stdout",
     "output_type": "stream",
     "text": [
      "{'I': 4, 'M': 1, 'P': 2, 'S': 4}\n"
     ]
    }
   ],
   "source": [
    "l=\"MISSISSIPPI\"\n",
    "x={}\n",
    "l=sorted(l)\n",
    "for i in l:\n",
    "    x[i]=l.count(i)\n",
    "print(x)"
   ]
  },
  {
   "cell_type": "markdown",
   "metadata": {},
   "source": [
    " ### 9.Take 10 integer inputs from user and print the following:\n",
    "* number of positive numbers\n",
    "* number of negative numbers\n",
    "* number of odd numbers\n",
    "* number of even numbers\n",
    "* number of 0s.using dictionaries\n",
    "* a=[10,20,-5,-6,3,4,0,0,-2,8]\n",
    "* d={p:5,n:3,e:6,odd:2,0:2}"
   ]
  },
  {
   "cell_type": "code",
   "execution_count": null,
   "metadata": {},
   "outputs": [
    {
     "name": "stdout",
     "output_type": "stream",
     "text": [
      "2\n",
      "23\n",
      "45\n",
      "67\n",
      "67\n",
      "78\n",
      "89\n",
      "90\n"
     ]
    }
   ],
   "source": [
    "d={}\n",
    "for i in range(1,11):\n",
    "    p=int(input())\n",
    "print(d)\n",
    "l={'p':0,'q':1,'e':7,'r':4}\n",
    "for j in d:\n",
    "    if j>0:\n",
    "        d['p']+=1\n",
    "        if j%2==0:\n",
    "            d['q']+=1\n",
    "        else:\n",
    "            d['e']+=1\n",
    "    elif j<0:\n",
    "        d['q']+=1\n",
    "        if j%2==0:\n",
    "            d['q']+=1\n",
    "        else:\n",
    "            d['e']+=1\n",
    "    elif j==0:\n",
    "        d['r']+=1\n",
    "print(l)"
   ]
  },
  {
   "cell_type": "code",
   "execution_count": null,
   "metadata": {},
   "outputs": [],
   "source": []
  }
 ],
 "metadata": {
  "kernelspec": {
   "display_name": "Python 3",
   "language": "python",
   "name": "python3"
  },
  "language_info": {
   "codemirror_mode": {
    "name": "ipython",
    "version": 3
   },
   "file_extension": ".py",
   "mimetype": "text/x-python",
   "name": "python",
   "nbconvert_exporter": "python",
   "pygments_lexer": "ipython3",
   "version": "3.7.3"
  }
 },
 "nbformat": 4,
 "nbformat_minor": 2
}
