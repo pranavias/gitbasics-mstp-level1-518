{
 "cells": [
  {
   "cell_type": "markdown",
   "metadata": {},
   "source": [
    "### file handling in python"
   ]
  },
  {
   "cell_type": "markdown",
   "metadata": {},
   "source": [
    " * read--r\n",
    " * write--w\n",
    " * append--a\n",
    " * readwrite--r+\n",
    " * write & read--w+\n",
    " * append & read--a+\n",
    " * exclusive write--x"
   ]
  },
  {
   "cell_type": "code",
   "execution_count": 5,
   "metadata": {},
   "outputs": [],
   "source": [
    "#file opening\n",
    "#file=open(\"sample.txt\",\"mode\")"
   ]
  },
  {
   "cell_type": "code",
   "execution_count": 11,
   "metadata": {},
   "outputs": [],
   "source": [
    "# create a file and add some content\n",
    "f=open(\"data.txt\",\"w\")\n",
    "f.write(\"welcome python\")\n",
    "f.write(\"\\namma\\n\")\n",
    "f.close()"
   ]
  },
  {
   "cell_type": "code",
   "execution_count": 13,
   "metadata": {},
   "outputs": [
    {
     "name": "stdout",
     "output_type": "stream",
     "text": [
      "welcome python\n",
      "amma\n",
      "\n"
     ]
    }
   ],
   "source": [
    "f=open(\"data.txt\",\"r\")\n",
    "f1=f.read()\n",
    "print(f1)\n",
    "f.close()"
   ]
  },
  {
   "cell_type": "code",
   "execution_count": 27,
   "metadata": {},
   "outputs": [
    {
     "name": "stdout",
     "output_type": "stream",
     "text": [
      "mstp apssdcwhat is this\n",
      "what is this\n",
      "\n"
     ]
    }
   ],
   "source": [
    "def hello(f):\n",
    "    f=open(\"data.txt\",\"r\")\n",
    "    f1=f.read()\n",
    "    print(f1)\n",
    "f=\"data.txt\"\n",
    "hello(f)"
   ]
  },
  {
   "cell_type": "code",
   "execution_count": 23,
   "metadata": {},
   "outputs": [],
   "source": [
    "def hello(f):\n",
    "    f=open(\"data.txt\",\"w\")\n",
    "    f.write(\"mstp apssdc\")\n",
    "f=\"data.txt\"\n",
    "hello(f)"
   ]
  },
  {
   "cell_type": "code",
   "execution_count": 26,
   "metadata": {},
   "outputs": [],
   "source": [
    "def content(f):\n",
    "    f=open(\"data.txt\",\"a\")\n",
    "    f.write(\"\\nwhat is this\\n\")\n",
    "f=\"data.txt\"\n",
    "content(f)"
   ]
  },
  {
   "cell_type": "code",
   "execution_count": 37,
   "metadata": {},
   "outputs": [
    {
     "name": "stdout",
     "output_type": "stream",
     "text": [
      "mstp apssdcwhat is this\n",
      "what is this\n",
      "\n"
     ]
    }
   ],
   "source": [
    "def file(f1):\n",
    "    f1=open(\"data.txt\",\"r\")\n",
    "    data=f1.read()\n",
    "    print(data)\n",
    "f1=\"data.txt\"\n",
    "file(f1)"
   ]
  },
  {
   "cell_type": "code",
   "execution_count": 41,
   "metadata": {},
   "outputs": [
    {
     "name": "stdout",
     "output_type": "stream",
     "text": [
      "mstp apssdcwhat is this\n",
      "\n"
     ]
    }
   ],
   "source": [
    " f=open(\"data.txt\",\"r\")\n",
    "x=f.readline()\n",
    "print(x)"
   ]
  },
  {
   "cell_type": "code",
   "execution_count": 43,
   "metadata": {},
   "outputs": [
    {
     "name": "stdout",
     "output_type": "stream",
     "text": [
      "['mstp apssdcwhat is this\\n', 'what is this\\n'] "
     ]
    }
   ],
   "source": [
    "f=open(\"data.txt\",\"r\")\n",
    "x=f.readlines()\n",
    "print(x,end=\" \")"
   ]
  },
  {
   "cell_type": "code",
   "execution_count": 53,
   "metadata": {},
   "outputs": [
    {
     "name": "stdout",
     "output_type": "stream",
     "text": [
      "mstp apssdcwhat is this\n",
      " what is this\n",
      " "
     ]
    }
   ],
   "source": [
    "def function(f):\n",
    "    f=open(\"data.txt\",\"r\")\n",
    "    x=f.readlines()\n",
    "for i in x:\n",
    "    print(i,end=\" \")\n",
    "function(f)    "
   ]
  },
  {
   "cell_type": "code",
   "execution_count": 70,
   "metadata": {},
   "outputs": [
    {
     "name": "stdout",
     "output_type": "stream",
     "text": [
      "2\n"
     ]
    }
   ],
   "source": [
    "def lines_count(file):\n",
    "    count=0\n",
    "    with open(\"data.txt\",\"r\") as file:\n",
    "        data=file.readlines()\n",
    "        for i in data:\n",
    "            count=count+1\n",
    "        print(count)\n",
    "file=\"data.txt\"      \n",
    "lines_count(file)      "
   ]
  },
  {
   "cell_type": "code",
   "execution_count": 71,
   "metadata": {},
   "outputs": [
    {
     "name": "stdout",
     "output_type": "stream",
     "text": [
      "37\n"
     ]
    }
   ],
   "source": [
    "def char_count(file):\n",
    "    count=0\n",
    "    with open(\"data.txt\",\"r\") as file:\n",
    "        y=file.read()\n",
    "        for i in y:\n",
    "            count=count+1\n",
    "        print(count)\n",
    "file=\"data.txt\"      \n",
    "char_count(file)      "
   ]
  },
  {
   "cell_type": "code",
   "execution_count": 84,
   "metadata": {},
   "outputs": [
    {
     "name": "stdout",
     "output_type": "stream",
     "text": [
      "7\n",
      "37\n"
     ]
    }
   ],
   "source": [
    "def words_count(file):\n",
    "    count=0\n",
    "    with open(\"data.txt\",\"r\") as file:\n",
    "        z=file.read()\n",
    "        f1=z.split()\n",
    "        print(len(f1))\n",
    "        for i in z:\n",
    "            count=count+1\n",
    "        print(count)\n",
    "file=\"data.txt\"      \n",
    "words_count(file)      "
   ]
  },
  {
   "cell_type": "code",
   "execution_count": null,
   "metadata": {},
   "outputs": [],
   "source": []
  }
 ],
 "metadata": {
  "kernelspec": {
   "display_name": "Python 3",
   "language": "python",
   "name": "python3"
  },
  "language_info": {
   "codemirror_mode": {
    "name": "ipython",
    "version": 3
   },
   "file_extension": ".py",
   "mimetype": "text/x-python",
   "name": "python",
   "nbconvert_exporter": "python",
   "pygments_lexer": "ipython3",
   "version": "3.7.3"
  }
 },
 "nbformat": 4,
 "nbformat_minor": 2
}
