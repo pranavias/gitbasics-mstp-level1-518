{
 "cells": [
  {
   "cell_type": "code",
   "execution_count": 1,
   "metadata": {},
   "outputs": [],
   "source": [
    "# file modes\n",
    "# tell\n",
    "#seek"
   ]
  },
  {
   "cell_type": "code",
   "execution_count": 12,
   "metadata": {},
   "outputs": [],
   "source": [
    "def filewrite(f):\n",
    "    f=open(\"file_operatoin.txt\",\"w\")\n",
    "    f.write(\"welcome\")\n",
    "    f.write(\"\\nhow are u\")\n",
    "    f.write(\"\\npython\")\n",
    "f=\"file_operatoin.txt\"\n",
    "filewrite(f)"
   ]
  },
  {
   "cell_type": "code",
   "execution_count": 74,
   "metadata": {},
   "outputs": [
    {
     "name": "stdout",
     "output_type": "stream",
     "text": [
      "121\n",
      "palindrome\n"
     ]
    }
   ],
   "source": [
    "#number palindrome\n",
    "n=int(input())\n",
    "s=0\n",
    "n1=n\n",
    "while(n!=0):\n",
    "    try:\n",
    "        a=n%10\n",
    "        s=s*10+a\n",
    "        n=n//10\n",
    "    except:\n",
    "        break\n",
    "if(s==n1):\n",
    "    print(\"palindrome\")\n",
    "else:\n",
    "    print(\"not palindrome\")"
   ]
  },
  {
   "cell_type": "code",
   "execution_count": 71,
   "metadata": {},
   "outputs": [
    {
     "name": "stdout",
     "output_type": "stream",
     "text": [
      "save th\n"
     ]
    },
    {
     "data": {
      "text/plain": [
       "7"
      ]
     },
     "execution_count": 71,
     "metadata": {},
     "output_type": "execute_result"
    }
   ],
   "source": [
    "f=open(\"file_operatoin.txt\",\"r\")\n",
    "f1=f.read(7)\n",
    "print(f1)\n",
    "f.tell()"
   ]
  },
  {
   "cell_type": "code",
   "execution_count": 32,
   "metadata": {},
   "outputs": [
    {
     "name": "stdout",
     "output_type": "stream",
     "text": [
      "welcome\n",
      "how are u\n",
      "python\n"
     ]
    },
    {
     "data": {
      "text/plain": [
       "3"
      ]
     },
     "execution_count": 32,
     "metadata": {},
     "output_type": "execute_result"
    }
   ],
   "source": [
    "f=open(\"file_operatoin.txt\",\"r\")\n",
    "f1=f.read(7)\n",
    "print(f2)\n",
    "f.seek(3)"
   ]
  },
  {
   "cell_type": "code",
   "execution_count": 39,
   "metadata": {},
   "outputs": [
    {
     "name": "stdout",
     "output_type": "stream",
     "text": [
      "\n"
     ]
    }
   ],
   "source": [
    "file1=\"file_operatoin.txt\"\n",
    "def write_right(file):\n",
    "    with open(file1,\"w+\") as file:\n",
    "        file.write(\"save the tress\")\n",
    "        file.write(\"\\nthe beauty of the world\")\n",
    "        #file.seek(1)\n",
    "        f1=file.read()\n",
    "        print(f1)\n",
    "write_right(file) "
   ]
  },
  {
   "cell_type": "code",
   "execution_count": 40,
   "metadata": {},
   "outputs": [
    {
     "name": "stdout",
     "output_type": "stream",
     "text": [
      "ve the tress\n",
      "the beauty of the world\n"
     ]
    }
   ],
   "source": [
    "file1=\"file_operatoin.txt\"\n",
    "def write_right(file):\n",
    "    with open(file1,\"w+\") as file:\n",
    "        file.write(\"save the tress\")\n",
    "        file.write(\"\\nthe beauty of the world\")\n",
    "        file.seek(2)\n",
    "        f1=file.read()\n",
    "        print(f1)\n",
    "write_right(file) "
   ]
  },
  {
   "cell_type": "code",
   "execution_count": 54,
   "metadata": {},
   "outputs": [],
   "source": [
    "def palindrome(n):\n",
    "    s=0\n",
    "    n1=n\n",
    "while(n!=0):\n",
    "    try:\n",
    "        a=n%10\n",
    "        s=s*10+a\n",
    "        n=n//10\n",
    "    except:\n",
    "        break\n",
    "    if(s==n1):\n",
    "        print(\"palindrome\")\n",
    "    else:\n",
    "        print(\"not palindrome\")\n",
    "palindrome(n)"
   ]
  },
  {
   "cell_type": "code",
   "execution_count": 69,
   "metadata": {},
   "outputs": [
    {
     "name": "stdout",
     "output_type": "stream",
     "text": [
      "123\n"
     ]
    },
    {
     "ename": "TypeError",
     "evalue": "object of type 'int' has no len()",
     "output_type": "error",
     "traceback": [
      "\u001b[1;31m---------------------------------------------------------------------------\u001b[0m",
      "\u001b[1;31mTypeError\u001b[0m                                 Traceback (most recent call last)",
      "\u001b[1;32m<ipython-input-69-66e671b2316c>\u001b[0m in \u001b[0;36m<module>\u001b[1;34m\u001b[0m\n\u001b[0;32m      8\u001b[0m     \u001b[1;32melse\u001b[0m\u001b[1;33m:\u001b[0m\u001b[1;33m\u001b[0m\u001b[1;33m\u001b[0m\u001b[0m\n\u001b[0;32m      9\u001b[0m         \u001b[0mprint\u001b[0m\u001b[1;33m(\u001b[0m\u001b[1;34m\"not palindrome\"\u001b[0m\u001b[1;33m)\u001b[0m\u001b[1;33m\u001b[0m\u001b[1;33m\u001b[0m\u001b[0m\n\u001b[1;32m---> 10\u001b[1;33m \u001b[0mpalindrome\u001b[0m\u001b[1;33m(\u001b[0m\u001b[0mn\u001b[0m\u001b[1;33m)\u001b[0m\u001b[1;33m\u001b[0m\u001b[1;33m\u001b[0m\u001b[0m\n\u001b[0m",
      "\u001b[1;32m<ipython-input-69-66e671b2316c>\u001b[0m in \u001b[0;36mpalindrome\u001b[1;34m(n)\u001b[0m\n\u001b[0;32m      1\u001b[0m \u001b[1;32mdef\u001b[0m \u001b[0mpalindrome\u001b[0m\u001b[1;33m(\u001b[0m\u001b[0mn\u001b[0m\u001b[1;33m)\u001b[0m\u001b[1;33m:\u001b[0m\u001b[1;33m\u001b[0m\u001b[1;33m\u001b[0m\u001b[0m\n\u001b[0;32m      2\u001b[0m     \u001b[0mn\u001b[0m\u001b[1;33m=\u001b[0m\u001b[0mint\u001b[0m\u001b[1;33m(\u001b[0m\u001b[0minput\u001b[0m\u001b[1;33m(\u001b[0m\u001b[1;33m)\u001b[0m\u001b[1;33m)\u001b[0m\u001b[1;33m\u001b[0m\u001b[1;33m\u001b[0m\u001b[0m\n\u001b[1;32m----> 3\u001b[1;33m     \u001b[0ms\u001b[0m\u001b[1;33m=\u001b[0m\u001b[0mlen\u001b[0m\u001b[1;33m(\u001b[0m\u001b[0mn\u001b[0m\u001b[1;33m)\u001b[0m\u001b[1;33m\u001b[0m\u001b[1;33m\u001b[0m\u001b[0m\n\u001b[0m\u001b[0;32m      4\u001b[0m     \u001b[1;32mfor\u001b[0m \u001b[0mi\u001b[0m \u001b[1;32min\u001b[0m \u001b[0mrange\u001b[0m\u001b[1;33m(\u001b[0m\u001b[1;36m1\u001b[0m\u001b[1;33m,\u001b[0m\u001b[0ms\u001b[0m\u001b[1;33m)\u001b[0m\u001b[1;33m:\u001b[0m\u001b[1;33m\u001b[0m\u001b[1;33m\u001b[0m\u001b[0m\n\u001b[0;32m      5\u001b[0m         \u001b[0ma\u001b[0m\u001b[1;33m=\u001b[0m\u001b[0ms\u001b[0m\u001b[1;33m[\u001b[0m\u001b[1;33m:\u001b[0m\u001b[1;33m:\u001b[0m\u001b[1;36m1\u001b[0m\u001b[1;33m]\u001b[0m\u001b[1;33m\u001b[0m\u001b[1;33m\u001b[0m\u001b[0m\n",
      "\u001b[1;31mTypeError\u001b[0m: object of type 'int' has no len()"
     ]
    }
   ],
   "source": [
    "def palindrome(n):\n",
    "    n=int(input())\n",
    "    s=len(n)\n",
    "    for i in range(1,s):\n",
    "        a=s[::1]\n",
    "    if s==a:\n",
    "         print(\"palindrome\")\n",
    "    else:\n",
    "        print(\"not palindrome\")\n",
    "palindrome(n)           "
   ]
  },
  {
   "cell_type": "code",
   "execution_count": null,
   "metadata": {},
   "outputs": [],
   "source": [
    "n=input()\n",
    "def palindrome(n):\n",
    "    s=len(n)\n",
    "    for i in range(1,s):\n",
    "        a=s[::1]\n",
    "    if s==a:\n",
    "         print(\"palindrome\")\n",
    "    else:\n",
    "        print(\"not palindrome\")\n",
    "palindrome(n)           "
   ]
  }
 ],
 "metadata": {
  "kernelspec": {
   "display_name": "Python 3",
   "language": "python",
   "name": "python3"
  },
  "language_info": {
   "codemirror_mode": {
    "name": "ipython",
    "version": 3
   },
   "file_extension": ".py",
   "mimetype": "text/x-python",
   "name": "python",
   "nbconvert_exporter": "python",
   "pygments_lexer": "ipython3",
   "version": "3.7.3"
  }
 },
 "nbformat": 4,
 "nbformat_minor": 2
}
