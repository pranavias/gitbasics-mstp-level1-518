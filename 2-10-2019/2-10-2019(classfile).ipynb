{
 "cells": [
  {
   "cell_type": "markdown",
   "metadata": {},
   "source": [
    "## regular expressions"
   ]
  },
  {
   "cell_type": "markdown",
   "metadata": {},
   "source": [
    "* 1.abc-->that matches the character sequence anywhere in the string\n",
    "* 2.^-->bigining of the string\n",
    "* 3.$-->end of the string\n",
    "* 4.^a[a-z][A-Z]s$-->combine of above two expressions\n",
    "* 5.a|b-->either a or b\n",
    "* 6.^abc|abc$-->begining or ending with abc string\n",
    "* 7.^a[a-z]{2}[A-Z]{3}s$-->aswASWs\n",
    "* 8.^a[a-z]{2,}[A-Z]{3,}s$\n",
    "* 9.^[1][6][2][t][1][a][0][5][0-9]{2}$\n",
    "* 10.^[0-9]{3}[0-9]|[a-z]|[A-Z]{2}1[A-Z][a-z]0[1-5][0-9]|[a-z]|[A-Z]{2}$--->rollnumber validation\n",
    "* 11.^([a-z]|[A-Z]|[0-9])([a-z]|[A-Z]|[0-9[_]){6-14}[0-9]|[a-z]|[A-Z][@][a-z]{2-10}[.][a-z]{2-4}$--->gmail validation\n",
    "* 12.c.d-->cad"
   ]
  },
  {
   "cell_type": "markdown",
   "metadata": {},
   "source": [
    "#### phonenum validation"
   ]
  },
  {
   "cell_type": "code",
   "execution_count": 10,
   "metadata": {},
   "outputs": [
    {
     "name": "stdout",
     "output_type": "stream",
     "text": [
      "1\n",
      "1\n"
     ]
    },
    {
     "data": {
      "text/plain": [
       "1"
      ]
     },
     "execution_count": 10,
     "metadata": {},
     "output_type": "execute_result"
    }
   ],
   "source": [
    "#^[0][6-9][0-9]{9}$-->10 digit num starting with 0\n",
    "#^[+][9][1][6789][0-9]{9}$--->10 digit num starting with +91\n",
    "#^[6-9][0-9]{9}$\n",
    "import re\n",
    "def phonenum(n):\n",
    "    pattern='^[+][9][1][6789][0-9]{9}$|^[0][6-9][0-9]{9}$|^[6-9][0-9]{9}$'\n",
    "    if re.match(pattern,n):\n",
    "        return 1\n",
    "    else:\n",
    "        return 0\n",
    "print(phonenum(\"9701564642\"))\n",
    "print(phonenum(\"+919966699033\"))\n",
    "phonenum(\"09848373268\")"
   ]
  },
  {
   "cell_type": "markdown",
   "metadata": {},
   "source": [
    "### email validation"
   ]
  },
  {
   "cell_type": "code",
   "execution_count": 22,
   "metadata": {},
   "outputs": [
    {
     "data": {
      "text/plain": [
       "1"
      ]
     },
     "execution_count": 22,
     "metadata": {},
     "output_type": "execute_result"
    }
   ],
   "source": [
    "import re\n",
    "def email(n):\n",
    "    pattern='^([a-z]|[A-Z]|[0-9])([a-z]|[A-Z]|[0-9[_]){6-14}[0-9]|[a-z]|[A-Z][@][a-z]{2-10}[.][a-z]{2-4}$'\n",
    "    if re.match(pattern,n):\n",
    "        return 1\n",
    "    else:\n",
    "        return 0\n",
    "email(\"aswiniboya3@gmail.com\")"
   ]
  },
  {
   "cell_type": "code",
   "execution_count": 34,
   "metadata": {},
   "outputs": [
    {
     "name": "stdout",
     "output_type": "stream",
     "text": [
      "phonenum is verified successfully\n",
      "email is verified successfully\n"
     ]
    },
    {
     "data": {
      "text/plain": [
       "{'amma': ['9849373268', 'amma143@gmail.com'],\n",
       " 'aswini': ['9701564642', 'aswiniboya3@gmail.com']}"
      ]
     },
     "execution_count": 34,
     "metadata": {},
     "output_type": "execute_result"
    }
   ],
   "source": [
    "contact={'amma':[\"9849373268\",\"amma143@gmail.com\"]}\n",
    "def addcontact(name,l):\n",
    "    if name not in contact:\n",
    "        no=l[0]\n",
    "        id=l[1]\n",
    "        if phonenum(no)==1:\n",
    "            print(\"phonenum is verified successfully\")\n",
    "            if email(id)==1:\n",
    "                print(\"email is verified successfully\")\n",
    "                contact[name]=l\n",
    "        else:\n",
    "            print(\"enter a valid no and id\")\n",
    "    else:\n",
    "        print(\"contact already exists\")\n",
    "addcontact(\"aswini\",[\"9701564642\",\"aswiniboya3@gmail.com\"])\n",
    "contact"
   ]
  },
  {
   "cell_type": "code",
   "execution_count": null,
   "metadata": {},
   "outputs": [],
   "source": []
  }
 ],
 "metadata": {
  "kernelspec": {
   "display_name": "Python 3",
   "language": "python",
   "name": "python3"
  },
  "language_info": {
   "codemirror_mode": {
    "name": "ipython",
    "version": 3
   },
   "file_extension": ".py",
   "mimetype": "text/x-python",
   "name": "python",
   "nbconvert_exporter": "python",
   "pygments_lexer": "ipython3",
   "version": "3.7.3"
  }
 },
 "nbformat": 4,
 "nbformat_minor": 2
}
