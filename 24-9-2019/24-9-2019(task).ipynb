{
 "cells": [
  {
   "cell_type": "markdown",
   "metadata": {},
   "source": [
    "### 1.check if the number exist in a given range"
   ]
  },
  {
   "cell_type": "code",
   "execution_count": 14,
   "metadata": {},
   "outputs": [
    {
     "name": "stdout",
     "output_type": "stream",
     "text": [
      "10\n",
      "1\n",
      "20\n",
      "in range--> 10\n"
     ]
    }
   ],
   "source": [
    "def number(n):\n",
    "    if n in range(lb,ub):\n",
    "        print(\"in range-->\",n)\n",
    "    else:\n",
    "        print(\"not in range-->\",n)\n",
    "n=int(input())\n",
    "lb=int(input())\n",
    "ub=int(input())\n",
    "number(n)"
   ]
  },
  {
   "cell_type": "markdown",
   "metadata": {},
   "source": [
    "### 2.check the num of digits in a number"
   ]
  },
  {
   "cell_type": "code",
   "execution_count": 1,
   "metadata": {},
   "outputs": [
    {
     "name": "stdout",
     "output_type": "stream",
     "text": [
      "12345\n",
      "5\n"
     ]
    }
   ],
   "source": [
    "def digit(n):\n",
    "    b=len(n)\n",
    "    print(b)\n",
    "n=input()\n",
    "digit(n)"
   ]
  },
  {
   "cell_type": "markdown",
   "metadata": {},
   "source": [
    "### 3.check if the num is a factor of 1000"
   ]
  },
  {
   "cell_type": "code",
   "execution_count": 4,
   "metadata": {},
   "outputs": [
    {
     "name": "stdout",
     "output_type": "stream",
     "text": [
      "5\n",
      "yes\n"
     ]
    }
   ],
   "source": [
    "def factor(i):\n",
    "    if((1000%i)==0):\n",
    "        print(\"yes\")\n",
    "    else:\n",
    "        print(\"not\")\n",
    "i=int(input())\n",
    "factor(i)"
   ]
  },
  {
   "cell_type": "markdown",
   "metadata": {},
   "source": [
    "### 4.calculate the squareroot of a given number"
   ]
  },
  {
   "cell_type": "code",
   "execution_count": 6,
   "metadata": {},
   "outputs": [
    {
     "name": "stdout",
     "output_type": "stream",
     "text": [
      "4\n",
      "2.0\n"
     ]
    }
   ],
   "source": [
    "def squareroot(n):\n",
    "    print(n**(1/2))\n",
    "n=int(input())\n",
    "squareroot(n)"
   ]
  },
  {
   "cell_type": "markdown",
   "metadata": {},
   "source": [
    "### 5.to take length and breadth of rectangle from user or not check if it issed"
   ]
  },
  {
   "cell_type": "code",
   "execution_count": 8,
   "metadata": {},
   "outputs": [
    {
     "name": "stdout",
     "output_type": "stream",
     "text": [
      "30\n",
      "20\n",
      "rectangle\n"
     ]
    }
   ],
   "source": [
    "def square(l,b):\n",
    "    if(l==b):\n",
    "        print(\"square\")\n",
    "    else:\n",
    "        print(\"rectangle\")\n",
    "l=int(input())\n",
    "b=int(input())\n",
    "square(l,b)"
   ]
  },
  {
   "cell_type": "markdown",
   "metadata": {},
   "source": [
    "### 6.a school has fallowing in grade system\n",
    "* below 25-f\n",
    "* 25-45-e\n",
    "* 45-50-d\n",
    "* 50-60-c\n",
    "* 60-80-b\n",
    "* above 80-a"
   ]
  },
  {
   "cell_type": "code",
   "execution_count": 1,
   "metadata": {},
   "outputs": [
    {
     "name": "stdout",
     "output_type": "stream",
     "text": [
      "74\n",
      "B\n"
     ]
    }
   ],
   "source": [
    "def grade(m):\n",
    "    if(m>80):\n",
    "        print(\"A\")\n",
    "    elif(m>60):\n",
    "        print(\"B\")\n",
    "    elif(m>50):\n",
    "        print(\"C\")\n",
    "    elif(m>45):\n",
    "        print(\"D\")\n",
    "    elif(m>=25):\n",
    "        print(\"E\")\n",
    "    elif(m<25):\n",
    "        print(\"F\")\n",
    "m=int(input())\n",
    "grade(m)"
   ]
  },
  {
   "cell_type": "markdown",
   "metadata": {},
   "source": [
    "### 7.take input of age three people by user and determine oldest and youngest among them"
   ]
  },
  {
   "cell_type": "code",
   "execution_count": 18,
   "metadata": {},
   "outputs": [
    {
     "ename": "IndentationError",
     "evalue": "unexpected indent (<ipython-input-18-987c719ef848>, line 4)",
     "output_type": "error",
     "traceback": [
      "\u001b[1;36m  File \u001b[1;32m\"<ipython-input-18-987c719ef848>\"\u001b[1;36m, line \u001b[1;32m4\u001b[0m\n\u001b[1;33m    if(ashu>sushu and ashu>harshi):\u001b[0m\n\u001b[1;37m    ^\u001b[0m\n\u001b[1;31mIndentationError\u001b[0m\u001b[1;31m:\u001b[0m unexpected indent\n"
     ]
    }
   ],
   "source": [
    "ashu=int(input())\n",
    "sushu=int(input())\n",
    "harshi=int(input())\n",
    "    if(ashu>sushu and ashu>harshi):\n",
    "        oldest=ashu\n",
    "    elif (sushu>harshi and sushu>ashu):\n",
    "        oldest=sushu\n",
    "    else:\n",
    "        oldest=harshi\n",
    "    if(ashu<sushu and ashu<harshi):\n",
    "        young=ashu\n",
    "    elif(sushu<ashu and sushu<harshi):\n",
    "        young=sushu\n",
    "    else:\n",
    "        young=harshi\n",
    "    print(\"oldest-->\",oldest)\n",
    "    print(\"young-->\",young)\n",
    "ashu=int(input())\n",
    "sushu=int(input())\n",
    "harshi=int(input())\n",
    "people(ashu,sushu,harshi)"
   ]
  },
  {
   "cell_type": "markdown",
   "metadata": {},
   "source": [
    "### 8.student will not allowed to sit in the exam attendence is lessthan 75%"
   ]
  },
  {
   "cell_type": "code",
   "execution_count": 17,
   "metadata": {},
   "outputs": [
    {
     "name": "stdout",
     "output_type": "stream",
     "text": [
      "20\n",
      "30\n",
      "150.0\n",
      "allowed to exam\n"
     ]
    }
   ],
   "source": [
    "def student(ch,ca):\n",
    "    n=(((ca/ch)*100))\n",
    "    print(n)\n",
    "    if(n>=75):\n",
    "        print(\"allowed to exam\")\n",
    "    else:\n",
    "         print(\"not allowed to exam\")\n",
    "ch=int(input())\n",
    "ca=int(input())\n",
    "student(ch,ca)        "
   ]
  }
 ],
 "metadata": {
  "kernelspec": {
   "display_name": "Python 3",
   "language": "python",
   "name": "python3"
  },
  "language_info": {
   "codemirror_mode": {
    "name": "ipython",
    "version": 3
   },
   "file_extension": ".py",
   "mimetype": "text/x-python",
   "name": "python",
   "nbconvert_exporter": "python",
   "pygments_lexer": "ipython3",
   "version": "3.7.3"
  }
 },
 "nbformat": 4,
 "nbformat_minor": 2
}
